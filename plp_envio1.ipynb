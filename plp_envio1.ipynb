{
  "nbformat": 4,
  "nbformat_minor": 0,
  "metadata": {
    "colab": {
      "provenance": []
    },
    "kernelspec": {
      "name": "python3",
      "display_name": "Python 3"
    },
    "language_info": {
      "name": "python"
    }
  },
  "cells": [
    {
      "cell_type": "markdown",
      "source": [
        "**Programa 1: Fazer o calculo da media de dois valores**"
      ],
      "metadata": {
        "id": "D0Sw7eIpOsMA"
      }
    },
    {
      "cell_type": "code",
      "source": [
        "def media(v1, v2):\n",
        "  media = (v1 + v2)/2\n",
        "  print(\"media: \", media)\n",
        "\n",
        "v1 = int(input(\"digite o primeiro valor: \"))\n",
        "v2 = int(input(\"digite o segundo valor: \"))\n",
        "\n",
        "media(v1, v2)"
      ],
      "metadata": {
        "colab": {
          "base_uri": "https://localhost:8080/"
        },
        "id": "A0hvCOOrO8Jf",
        "outputId": "c6083ba2-a4b8-48eb-e580-aa6485f37b34"
      },
      "execution_count": 3,
      "outputs": [
        {
          "output_type": "stream",
          "name": "stdout",
          "text": [
            "digite o primeiro valor: 10\n",
            "digite o segundo valor: 2\n",
            "media:  6.0\n"
          ]
        }
      ]
    },
    {
      "cell_type": "markdown",
      "source": [
        "**Programa 2: Fazer um programa que solicite o preço de uma mercadoria e o percentual de desconto e exiba o preço a pagar**"
      ],
      "metadata": {
        "id": "iPcCFmLaRF-J"
      }
    },
    {
      "cell_type": "code",
      "source": [
        "def desconto(v, p):\n",
        "  desconto = v - (v * (p / 100))\n",
        "  print(\"o valor alicando o desconto fica: R$\", desconto)\n",
        "\n",
        "v = float(input(\"digite o valor original da mercadoria: \"))\n",
        "p = int(input(\"digite o valor percentual do desconto: \"))\n",
        "\n",
        "desconto(v, p)\n"
      ],
      "metadata": {
        "colab": {
          "base_uri": "https://localhost:8080/"
        },
        "id": "UcyRypofRoRo",
        "outputId": "71139c85-c14b-4f9e-b8f9-9d29c77b966a"
      },
      "execution_count": 9,
      "outputs": [
        {
          "output_type": "stream",
          "name": "stdout",
          "text": [
            "digite o valor original da mercadoria: 1000\n",
            "digite o valor percentual do desconto: 50\n",
            "o valor alicando o desconto fica: R$ 500.0\n"
          ]
        }
      ]
    },
    {
      "cell_type": "markdown",
      "source": [
        "**Programa 3: Calcular a quantidade de dias de vida perdidos por um fumante**"
      ],
      "metadata": {
        "id": "wJGixqNpUdcS"
      }
    },
    {
      "cell_type": "code",
      "source": [
        "def diasperdidos(cf, an):\n",
        "  dias = an * 365\n",
        "  minperdidos = (cf * 10)\n",
        "  conversaoMinH = (minperdidos / 60)\n",
        "  conversaoHdia = (conversaoMinH / 24)\n",
        "  diasperdidos = (dias * conversaoHdia)\n",
        "\n",
        "  print(\"voce ja perdeu: \", diasperdidos, \" dias\")\n",
        "\n",
        "cigarrosfumados = int(input(\"digite a quantidade de cigarros que voce fuma por dia: \"))\n",
        "anosfumando = int(input(\"digite a quantos anos voce fuma: \"))\n",
        "\n",
        "diasperdidos(cigarrosfumados, anosfumando)"
      ],
      "metadata": {
        "colab": {
          "base_uri": "https://localhost:8080/"
        },
        "id": "lCS5Pk1CUoZI",
        "outputId": "8c5cf794-74a5-4ff1-8705-49d86be5d504"
      },
      "execution_count": 10,
      "outputs": [
        {
          "output_type": "stream",
          "name": "stdout",
          "text": [
            "digite a quantidade de cigarros que voce fuma por dia: 40\n",
            "digite a quantos anos voce fuma: 5\n",
            "voce ja perdeu:  506.94444444444446  dias\n"
          ]
        }
      ]
    },
    {
      "cell_type": "markdown",
      "source": [
        "**Programa 4: Construir o algoritimo de uma maquina registradora simples**"
      ],
      "metadata": {
        "id": "3WD-r3V7a1oY"
      }
    },
    {
      "cell_type": "code",
      "source": [
        "print(\"produtos:\\n1- borracha - R$0,50\\n2- lapis - R$1,00\\n3- caneta - R$2,50\\n4- postit - R$6,00\")\n",
        "\n",
        "aPagar = 0\n",
        "while True:\n",
        "  codigo = int(input(\"codigo da mercadoria (0 para sair)\"))\n",
        "  preco = 0\n",
        "  if codigo == 0:\n",
        "    break\n",
        "  elif codigo == 1:\n",
        "    preco = 0.5\n",
        "  elif codigo == 2:\n",
        "    preco = 1.0\n",
        "  elif codigo == 3:\n",
        "    preco = 2.5\n",
        "  elif codigo == 4:\n",
        "    preco = 6\n",
        "  else:\n",
        "    print(\"codigo invalido!\")\n",
        "\n",
        "  if preco != 0:\n",
        "    quantidade =int(input(\"digite a quantidade:\"))\n",
        "    aPagar = aPagar + (preco * quantidade)\n",
        "\n",
        "print(\"total a pagar: R$\", aPagar)\n"
      ],
      "metadata": {
        "colab": {
          "base_uri": "https://localhost:8080/"
        },
        "id": "SWqwuIb4bEXu",
        "outputId": "246e7df2-9557-4875-f6b9-4f922529b898"
      },
      "execution_count": 12,
      "outputs": [
        {
          "output_type": "stream",
          "name": "stdout",
          "text": [
            "produtos:\n",
            "1- borracha - R$0,50\n",
            "2- lapis - R$1,00\n",
            "3- caneta - R$2,50\n",
            "4- postit - R$6,00\n",
            "codigo da mercadoria (0 para sair)1\n",
            "digite a quantidade:1\n",
            "codigo da mercadoria (0 para sair)2\n",
            "digite a quantidade:3\n",
            "codigo da mercadoria (0 para sair)3\n",
            "digite a quantidade:2\n",
            "codigo da mercadoria (0 para sair)4\n",
            "digite a quantidade:1\n",
            "codigo da mercadoria (0 para sair)0\n",
            "total a pagar: R$ 14.5\n"
          ]
        }
      ]
    },
    {
      "cell_type": "markdown",
      "source": [
        "**Programa 5: Utilização de vetores**"
      ],
      "metadata": {
        "id": "tODZWORSdxNR"
      }
    },
    {
      "cell_type": "code",
      "source": [
        "vetor = []\n",
        "\n",
        "for i in range(5):\n",
        "  vetor.append(int (input(\"digite o elemento na posicao %d: \" % i)))\n",
        "\n",
        "maior = vetor[0]\n",
        "menor = vetor[0]\n",
        "maiorquecinco = 0\n",
        "soma = 0\n",
        "\n",
        "for i in range(0, len(vetor)):\n",
        "  soma += vetor[i]\n",
        "\n",
        "  if vetor[i] > maior:\n",
        "    maior = vetor[i]\n",
        "  elif vetor[i] < menor:\n",
        "    menor = vetor[i]\n",
        "\n",
        "  if vetor[i] > 5:\n",
        "    maiorquecinco += 1\n",
        "\n",
        "media = soma / len(vetor)\n",
        "\n",
        "print(\"\\nmaior valor: %d\" % maior)\n",
        "print(\"menor valor: %d\" % menor)\n",
        "print(\"\\nmedia dos valores inseridos: %d\" % media)\n",
        "print(\"\\nquantidade de numeros maiores que cinco: %d\" % maiorquecinco)\n",
        "\n"
      ],
      "metadata": {
        "colab": {
          "base_uri": "https://localhost:8080/"
        },
        "id": "rzM1VAa8eJU_",
        "outputId": "5b5d2e0d-177d-4688-c014-453f35f24688"
      },
      "execution_count": 14,
      "outputs": [
        {
          "output_type": "stream",
          "name": "stdout",
          "text": [
            "digite o elemento na posicao 0: 10\n",
            "digite o elemento na posicao 1: 4\n",
            "digite o elemento na posicao 2: 3\n",
            "digite o elemento na posicao 3: 7\n",
            "digite o elemento na posicao 4: 2\n",
            "\n",
            "maior valor: 10\n",
            "menor valor: 2\n",
            "\n",
            "media dos valores inseridos: 5\n",
            "\n",
            "quantidade de numeros maiores que cinco: 2\n"
          ]
        }
      ]
    }
  ]
}